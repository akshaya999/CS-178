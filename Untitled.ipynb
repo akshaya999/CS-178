{
 "cells": [
  {
   "cell_type": "code",
   "execution_count": 2,
   "metadata": {},
   "outputs": [],
   "source": [
    "import numpy as np\n",
    "import mltools as ml\n",
    "import matplotlib.pyplot as plt\n",
    "from sklearn.ensemble import AdaBoostClassifier\n",
    "from sklearn.datasets import make_classification\n",
    "from sklearn import metrics\n",
    "from sklearn.metrics import classification_report\n",
    "X = np.genfromtxt(\"X_train.txt\",delimiter=',')\n",
    "Y = np.genfromtxt(\"Y_train.txt\",delimiter=None)\n",
    "from sklearn.tree import DecisionTreeClassifier\n",
    "from sklearn. ensemble import RandomForestClassifier\n",
    "from sklearn. ensemble import  VotingClassifier\n",
    "from sklearn.linear_model import LogisticRegression\n",
    "from sklearn.svm import SVC\n",
    "from sklearn.metrics import mean_squared_error\n"
   ]
  },
  {
   "cell_type": "code",
   "execution_count": 3,
   "metadata": {},
   "outputs": [
    {
     "name": "stdout",
     "output_type": "stream",
     "text": [
      "2\n",
      "2\n",
      "2\n",
      "2\n",
      "2\n",
      "2\n",
      "2\n",
      "2\n",
      "2\n",
      "2\n",
      "2\n",
      "2\n",
      "2\n",
      "3\n",
      "3\n",
      "3\n",
      "3\n",
      "3\n",
      "3\n",
      "3\n",
      "3\n",
      "3\n",
      "3\n",
      "3\n",
      "3\n",
      "3\n",
      "4\n",
      "4\n",
      "4\n",
      "4\n",
      "4\n",
      "4\n",
      "4\n",
      "4\n",
      "4\n",
      "4\n",
      "4\n",
      "4\n",
      "4\n",
      "5\n",
      "5\n",
      "5\n",
      "5\n",
      "5\n",
      "5\n",
      "5\n",
      "5\n",
      "5\n",
      "5\n",
      "5\n",
      "5\n",
      "5\n",
      "6\n",
      "6\n",
      "6\n",
      "6\n",
      "6\n",
      "6\n",
      "6\n",
      "6\n",
      "6\n",
      "6\n",
      "6\n",
      "6\n",
      "6\n",
      "7\n",
      "7\n",
      "7\n",
      "7\n",
      "7\n",
      "7\n",
      "7\n",
      "7\n",
      "7\n",
      "7\n",
      "7\n",
      "7\n",
      "7\n",
      "8\n",
      "8\n",
      "8\n",
      "8\n",
      "8\n",
      "8\n",
      "8\n",
      "8\n",
      "8\n",
      "8\n",
      "8\n",
      "8\n",
      "8\n",
      "9\n",
      "9\n",
      "9\n",
      "9\n",
      "9\n",
      "9\n",
      "9\n",
      "9\n",
      "9\n",
      "9\n",
      "9\n",
      "9\n",
      "9\n",
      "10\n",
      "10\n",
      "10\n",
      "10\n",
      "10\n",
      "10\n",
      "10\n",
      "10\n",
      "10\n",
      "10\n",
      "10\n",
      "10\n",
      "10\n",
      "11\n",
      "11\n",
      "11\n",
      "11\n",
      "11\n",
      "11\n",
      "11\n",
      "11\n",
      "11\n",
      "11\n",
      "11\n",
      "11\n",
      "11\n",
      "12\n",
      "12\n",
      "12\n",
      "12\n",
      "12\n",
      "12\n",
      "12\n",
      "12\n",
      "12\n",
      "12\n",
      "12\n",
      "12\n",
      "12\n",
      "13\n",
      "13\n",
      "13\n",
      "13\n",
      "13\n",
      "13\n",
      "13\n",
      "13\n",
      "13\n",
      "13\n",
      "13\n",
      "13\n",
      "13\n",
      "14\n",
      "14\n",
      "14\n",
      "14\n",
      "14\n",
      "14\n",
      "14\n",
      "14\n",
      "14\n",
      "14\n",
      "14\n",
      "14\n",
      "14\n",
      "15\n",
      "15\n",
      "15\n",
      "15\n",
      "15\n",
      "15\n",
      "15\n",
      "15\n",
      "15\n",
      "15\n",
      "15\n",
      "15\n",
      "15\n",
      "16\n",
      "16\n",
      "16\n",
      "16\n",
      "16\n",
      "16\n",
      "16\n",
      "16\n",
      "16\n",
      "16\n",
      "16\n",
      "16\n",
      "16\n",
      "17\n",
      "17\n",
      "17\n",
      "17\n",
      "17\n",
      "17\n",
      "17\n",
      "17\n",
      "17\n",
      "17\n",
      "17\n",
      "17\n",
      "17\n",
      "18\n",
      "18\n",
      "18\n",
      "18\n",
      "18\n",
      "18\n",
      "18\n",
      "18\n",
      "18\n",
      "18\n",
      "18\n",
      "18\n",
      "18\n",
      "19\n",
      "19\n",
      "19\n",
      "19\n",
      "19\n",
      "19\n",
      "19\n",
      "19\n",
      "19\n",
      "19\n",
      "19\n",
      "19\n",
      "19\n"
     ]
    }
   ],
   "source": [
    "from sklearn.feature_selection import SelectKBest, f_classif,f_regression,chi2,mutual_info_classif\n",
    "best_value=[]\n",
    "index2=0\n",
    "new = [x for x in range(2,20)]\n",
    "for x1 in new:    \n",
    "    selector= SelectKBest(mutual_info_classif, k=x1)\n",
    "    X_new = selector.fit_transform(X[:,:41], Y)\n",
    "    Xtr,Xva,Ytr,Yva = ml.splitData(X_new,Y, 0.80);\n",
    "    K=[100,200,300,400,500,600,700,800,900,1000,2000,3000,4000];\n",
    "    errTrain = [None]*len(K) \n",
    "    errValid = [None]*len(K) \n",
    "    for i,k in enumerate(K):\n",
    "        learner = ml.knn.knnClassify(Xtr,Ytr,k)\n",
    "        Yhat = learner.predict(Xtr)\n",
    "        errTrain[i] = np.mean(Yhat!=Ytr)\n",
    "        Yv = learner.predict(Xva)\n",
    "        errValid[i] = np.mean(Yv!=Yva)\n",
    "        print(x1)\n",
    "    best_value.append((x1,K[np.argmin(errValid)],errValid[np.argmin(errValid)]))"
   ]
  },
  {
   "cell_type": "code",
   "execution_count": 6,
   "metadata": {},
   "outputs": [
    {
     "name": "stdout",
     "output_type": "stream",
     "text": [
      "[(2, 100, 0.3872053872053872), (3, 600, 0.4505050505050505), (4, 400, 0.46060606060606063), (5, 700, 0.44646464646464645), (6, 800, 0.4599326599326599), (7, 700, 0.4444444444444444), (8, 700, 0.44646464646464645), (9, 100, 0.43905723905723903), (10, 400, 0.4430976430976431), (11, 300, 0.43905723905723903), (12, 200, 0.4444444444444444), (13, 100, 0.4444444444444444), (14, 100, 0.4444444444444444), (15, 700, 0.4444444444444444), (16, 500, 0.44377104377104376), (17, 700, 0.44646464646464645), (18, 100, 0.44242424242424244), (19, 100, 0.44242424242424244)]\n"
     ]
    }
   ],
   "source": [
    "print(best_value)\n",
    "valid = [x[2] for x in best_value]\n",
    "K = [x[0] for x in best_value]\n",
    "depth = [x[1] for x in best_value]"
   ]
  },
  {
   "cell_type": "code",
   "execution_count": 8,
   "metadata": {},
   "outputs": [
    {
     "data": {
      "text/plain": [
       "[<matplotlib.lines.Line2D at 0x1342fcbfcd0>]"
      ]
     },
     "execution_count": 8,
     "metadata": {},
     "output_type": "execute_result"
    },
    {
     "data": {
      "image/png": "[encoded data removed]",
      "text/plain": [
       "<Figure size 432x288 with 1 Axes>"
      ]
     },
     "metadata": {
      "needs_background": "light"
     },
     "output_type": "display_data"
    }
   ],
   "source": [
    "plt.plot(K,valid)"
   ]
  },
  {
   "cell_type": "code",
   "execution_count": 10,
   "metadata": {},
   "outputs": [
    {
     "data": {
      "text/plain": [
       "(0, 2, 100)"
      ]
     },
     "execution_count": 10,
     "metadata": {},
     "output_type": "execute_result"
    }
   ],
   "source": [
    "least = np.argmin(valid)\n",
    "least_k = K[least]\n",
    "least_depth = depth[least]\n",
    "least,least_k,least_depth"
   ]
  },
  {
   "cell_type": "code",
   "execution_count": 4,
   "metadata": {},
   "outputs": [],
   "source": [
    "from sklearn.feature_selection import SelectKBest, f_classif,f_regression,chi2,mutual_info_classif\n",
    "selector= SelectKBest(mutual_info_classif, k=2)\n",
    "X_new = selector.fit_transform(X[:,:41], Y)\n",
    "Xtr,Xva,Ytr,Yva = ml.splitData(X_new,Y, 0.80);"
   ]
  },
  {
   "cell_type": "code",
   "execution_count": 5,
   "metadata": {},
   "outputs": [],
   "source": [
    "knn = ml.knn.knnClassify(Xtr,Ytr,100)"
   ]
  },
  {
   "cell_type": "code",
   "execution_count": 6,
   "metadata": {},
   "outputs": [
    {
     "name": "stdout",
     "output_type": "stream",
     "text": [
      "(7422, 2)\n"
     ]
    }
   ],
   "source": [
    "Xte = np.genfromtxt('X_test.txt', delimiter=',')\n",
    "Xte1 = selector.transform(Xte[:,:41])\n",
    "print(Xte1.shape)\n",
    "Yhat = knn.predict(Xte1)\n",
    "Yte = np.vstack((np.arange(Xte.shape[0]), Yhat)).T\n",
    "np.savetxt('Y_submit.txt',Yte,'%d, %.2f',header='ID,Predicted',comments='',delimiter=',')"
   ]
  },
  {
   "cell_type": "code",
   "execution_count": null,
   "metadata": {},
   "outputs": [],
   "source": []
  }
 ],
 "metadata": {
  "kernelspec": {
   "display_name": "Python 3",
   "language": "python",
   "name": "python3"
  },
  "language_info": {
   "codemirror_mode": {
    "name": "ipython",
    "version": 3
   },
   "file_extension": ".py",
   "mimetype": "text/x-python",
   "name": "python",
   "nbconvert_exporter": "python",
   "pygments_lexer": "ipython3",
   "version": "3.8.3"
  }
 },
 "nbformat": 4,
 "nbformat_minor": 4
}
