{
 "cells": [
  {
   "cell_type": "code",
   "execution_count": 13,
   "metadata": {},
   "outputs": [],
   "source": [
    "import numpy as np\n",
    "import mltools as ml\n",
    "import matplotlib.pyplot as plt\n",
    "from sklearn.ensemble import AdaBoostClassifier\n",
    "from sklearn.datasets import make_classification\n",
    "from sklearn import metrics\n",
    "from sklearn.metrics import classification_report\n",
    "X = np.genfromtxt(\"X_train.txt\",delimiter=',')\n",
    "Y = np.genfromtxt(\"Y_train.txt\",delimiter=None)\n",
    "from sklearn.tree import DecisionTreeClassifier\n",
    "from sklearn. ensemble import RandomForestClassifier\n",
    "from sklearn. ensemble import  VotingClassifier\n",
    "from sklearn.linear_model import LogisticRegression\n",
    "from sklearn.svm import SVC\n",
    "from sklearn.metrics import mean_squared_error\n"
   ]
  },
  {
   "cell_type": "code",
   "execution_count": 14,
   "metadata": {},
   "outputs": [],
   "source": [
    "from sklearn.feature_selection import SelectKBest, f_classif,f_regression,chi2,mutual_info_classif\n",
    "selector= SelectKBest(mutual_info_classif, k=2)\n",
    "X_new = selector.fit_transform(X, Y)\n",
    "Xtr,Xva,Ytr,Yva = ml.splitData(X_new,Y, 0.70);"
   ]
  },
  {
   "cell_type": "code",
   "execution_count": 15,
   "metadata": {
    "scrolled": false
   },
   "outputs": [],
   "source": [
    "from sklearn.feature_selection import SelectKBest, f_classif,f_regression,chi2,mutual_info_classif\n",
    "best_value=[]\n",
    "index2=0\n",
    "new = [x for x in range(2,40)]\n",
    "for x1 in new:    \n",
    "    selector= SelectKBest(mutual_info_classif, k=x1)\n",
    "    X_new = selector.fit_transform(X[:,41:], Y)\n",
    "    Xtr,Xva,Ytr,Yva = ml.splitData(X_new,Y, 0.80);\n",
    "    K=[100,200,300,400,500,600,700,800,900,1000,2000,3000,4000];\n",
    "    errTrain = [None]*len(K) \n",
    "    errValid = [None]*len(K) \n",
    "    for i,k in enumerate(K):\n",
    "        learner = ml.knn.knnClassify(Xtr,Ytr,k)\n",
    "        Yhat = learner.predict(Xtr)\n",
    "        errTrain[i] = np.mean(Yhat!=Ytr)\n",
    "        Yv = learner.predict(Xva)\n",
    "        errValid[i] = np.mean(Yv!=Yva)\n",
    "    best_value.append((x1,K[np.argmin(errValid)],errValid[np.argmin(errValid)]))"
   ]
  },
  {
   "cell_type": "code",
   "execution_count": 33,
   "metadata": {},
   "outputs": [
    {
     "name": "stdout",
     "output_type": "stream",
     "text": [
      "[(2, 300, 0.46464646464646464), (3, 100, 0.4626262626262626), (4, 300, 0.4808080808080808), (5, 100, 0.4794612794612795), (6, 400, 0.49427609427609426), (7, 300, 0.4808080808080808), (8, 500, 0.47878787878787876), (9, 100, 0.4794612794612795), (10, 200, 0.4740740740740741), (11, 200, 0.4841750841750842), (12, 100, 0.48148148148148145), (13, 100, 0.48013468013468014), (14, 600, 0.49292929292929294), (15, 200, 0.4653198653198653), (16, 100, 0.48148148148148145), (17, 700, 0.49292929292929294), (18, 300, 0.48013468013468014), (19, 100, 0.47609427609427607), (20, 300, 0.48484848484848486), (21, 200, 0.46734006734006733), (22, 400, 0.47609427609427607), (23, 4000, 0.4781144781144781), (24, 100, 0.48148148148148145), (25, 800, 0.4794612794612795), (26, 100, 0.4767676767676768), (27, 1000, 0.47878787878787876), (28, 400, 0.47609427609427607), (29, 200, 0.46936026936026937), (30, 100, 0.4727272727272727), (31, 100, 0.48215488215488217), (32, 100, 0.48148148148148145), (33, 500, 0.4754208754208754), (34, 300, 0.48013468013468014), (35, 300, 0.48013468013468014), (36, 4000, 0.4794612794612795), (37, 300, 0.48013468013468014), (38, 100, 0.47609427609427607), (39, 300, 0.48215488215488217)]\n"
     ]
    }
   ],
   "source": [
    "print(best_value)"
   ]
  },
  {
   "cell_type": "code",
   "execution_count": 36,
   "metadata": {},
   "outputs": [
    {
     "data": {
      "text/plain": [
       "[<matplotlib.lines.Line2D at 0x27ca676f3a0>]"
      ]
     },
     "execution_count": 36,
     "metadata": {},
     "output_type": "execute_result"
    },
    {
     "data": {
      "image/png": "[encoded data removed]",
      "text/plain": [
       "<Figure size 432x288 with 1 Axes>"
      ]
     },
     "metadata": {
      "needs_background": "light"
     },
     "output_type": "display_data"
    }
   ],
   "source": [
    "depth = [x[0] for x in best_value]\n",
    "valid = [x[2] for x in best_value]\n",
    "plt.plot(depth,valid,'r.-')"
   ]
  },
  {
   "cell_type": "code",
   "execution_count": null,
   "metadata": {},
   "outputs": [],
   "source": [
    "X = np.genfromtxt(\"X_train.txt\",delimiter=',')\n",
    "Y = np.genfromtxt(\"Y_train.txt\",delimiter=None)\n",
    "from sklearn.feature_selection import SelectKBest, f_classif,f_regression,chi2,mutual_info_classif\n",
    "selector= SelectKBest(mutual_info_classif, k=2)\n",
    "X_new1 = selector.fit_transform(X, Y)\n",
    "Xtr,Xva,Ytr,Yva = ml.splitData(X_new1,Y, 0.70);"
   ]
  },
  {
   "cell_type": "code",
   "execution_count": null,
   "metadata": {},
   "outputs": [],
   "source": [
    "Xte = np.genfromtxt('X_test.txt', delimiter=',')\n",
    "Xte1 = selector.transform(Xte)\n",
    "print(Xte1.shape)\n",
    "Yhat = learner.predict(Xte1)\n",
    "Yte = np.vstack((np.arange(Xte.shape[0]), Yhat)).T\n",
    "np.savetxt('Y_submit.txt',Yte,'%d, %.2f',header='ID,Predicted',comments='',delimiter=',')"
   ]
  },
  {
   "cell_type": "code",
   "execution_count": null,
   "metadata": {},
   "outputs": [],
   "source": [
    "print(\"Kaggle Score For Knn was 0.60707 for k=2\")\n",
    "print(\"Kaggle score for Knn was 0.62363 for k =3\")\n",
    "print(\"Kaggle score for Knn was 0.51037 for k =4\")"
   ]
  },
  {
   "cell_type": "code",
   "execution_count": null,
   "metadata": {},
   "outputs": [],
   "source": []
  }
 ],
 "metadata": {
  "kernelspec": {
   "display_name": "Python 3",
   "language": "python",
   "name": "python3"
  },
  "language_info": {
   "codemirror_mode": {
    "name": "ipython",
    "version": 3
   },
   "file_extension": ".py",
   "mimetype": "text/x-python",
   "name": "python",
   "nbconvert_exporter": "python",
   "pygments_lexer": "ipython3",
   "version": "3.8.3"
  }
 },
 "nbformat": 4,
 "nbformat_minor": 4
}
