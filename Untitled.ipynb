{
 "cells": [
  {
   "cell_type": "code",
   "execution_count": 1,
   "metadata": {},
   "outputs": [],
   "source": [
    "import numpy as np\n",
    "import mltools as ml\n",
    "import matplotlib.pyplot as plt\n",
    "from sklearn.ensemble import AdaBoostClassifier\n",
    "from sklearn.datasets import make_classification\n",
    "from sklearn import metrics\n",
    "from sklearn.metrics import classification_report\n",
    "X = np.genfromtxt(\"X_train.txt\",delimiter=',')\n",
    "Y = np.genfromtxt(\"Y_train.txt\",delimiter=None)\n",
    "from sklearn.tree import DecisionTreeClassifier\n",
    "from sklearn. ensemble import RandomForestClassifier\n",
    "from sklearn. ensemble import  VotingClassifier\n",
    "from sklearn.linear_model import LogisticRegression\n",
    "from sklearn.svm import SVC\n",
    "from sklearn.metrics import mean_squared_error\n"
   ]
  },
  {
   "cell_type": "code",
   "execution_count": 2,
   "metadata": {},
   "outputs": [
    {
     "name": "stdout",
     "output_type": "stream",
     "text": [
      "(7423, 107)\n",
      "(7423, 2)\n"
     ]
    }
   ],
   "source": [
    "from sklearn.feature_selection import SelectKBest, f_classif,f_regression,chi2,mutual_info_classif\n",
    "print(X.shape)\n",
    "selector= SelectKBest(mutual_info_classif, k=2)\n",
    "X_new = selector.fit_transform(X, Y)\n",
    "print(X_new.shape)\n",
    "Xtr,Xva,Ytr,Yva = ml.splitData(X_new,Y, 0.70);"
   ]
  },
  {
   "cell_type": "code",
   "execution_count": 3,
   "metadata": {},
   "outputs": [
    {
     "data": {
      "text/plain": [
       "0.6160754378087113"
      ]
     },
     "execution_count": 3,
     "metadata": {},
     "output_type": "execute_result"
    }
   ],
   "source": [
    "clf = AdaBoostClassifier(n_estimators=70, random_state=0)\n",
    "model = clf.fit(Xtr,Ytr)\n",
    "clf.score(Xva,Yva)"
   ]
  },
  {
   "cell_type": "code",
   "execution_count": 4,
   "metadata": {},
   "outputs": [
    {
     "data": {
      "image/png": "[encoded data removed]",
      "text/plain": [
       "<Figure size 432x288 with 1 Axes>"
      ]
     },
     "metadata": {
      "needs_background": "light"
     },
     "output_type": "display_data"
    }
   ],
   "source": [
    "k=2\n",
    "knn = ml.knn.knnClassify( Xtr, Ytr, k );\n",
    "YvaHat = knn.predict(Xva );\n",
    "ml.plotClassify2D( knn, Xtr, Ytr); "
   ]
  },
  {
   "cell_type": "code",
   "execution_count": null,
   "metadata": {
    "scrolled": false
   },
   "outputs": [
    {
     "name": "stdout",
     "output_type": "stream",
     "text": [
      "12:30:09.442859\n"
     ]
    },
    {
     "name": "stderr",
     "output_type": "stream",
     "text": [
      "C:\\Users\\Akshaya\\anaconda3\\lib\\site-packages\\sklearn\\feature_selection\\_base.py:79: UserWarning: No features were selected: either the data is too noisy or the selection test too strict.\n",
      "  warn(\"No features were selected: either the data is\"\n"
     ]
    },
    {
     "name": "stdout",
     "output_type": "stream",
     "text": [
      "12:30:25.639115 0\n",
      "12:31:08.393326 1\n",
      "12:32:03.954357 2\n",
      "12:33:18.032006 3\n",
      "12:34:51.333733 4\n"
     ]
    }
   ],
   "source": [
    "import datetime\n",
    "print(datetime.datetime.now().time())\n",
    "from sklearn.feature_selection import SelectKBest, f_classif,f_regression,chi2,mutual_info_classif\n",
    "fig, axs = plt.subplots(50,figsize=(50,75))\n",
    "index2=0\n",
    "for index,x1 in enumerate([z for z in range(50)]):    \n",
    "    selector= SelectKBest(mutual_info_classif, k=x1)\n",
    "    X_new = selector.fit_transform(X, Y)\n",
    "    Xtr,Xva,Ytr,Yva = ml.splitData(X_new,Y, 0.80);\n",
    "\n",
    "    K=[100,200,300,400,500,600,700,800,900,1000,2000,3000,4000];\n",
    "    errTrain = [None]*len(K) \n",
    "    errValid = [None]*len(K) \n",
    "    for i,k in enumerate(K):\n",
    "        learner = ml.knn.knnClassify(Xtr,Ytr,k)\n",
    "        Yhat = learner.predict(Xtr)\n",
    "        errTrain[i] = np.mean(Yhat!=Ytr)\n",
    "        Yv = learner.predict(Xva)\n",
    "        errValid[i] = np.mean(Yv!=Yva)\n",
    "        \n",
    "    axs[index].semilogx(K,errTrain,'r.-')\n",
    "    axs[index].semilogx(K,errValid,'g.-')\n",
    "    index2+=1\n",
    "    best = np.argmin(errValid)\n",
    "    print(datetime.datetime.now().time(),index)"
   ]
  },
  {
   "cell_type": "code",
   "execution_count": null,
   "metadata": {},
   "outputs": [],
   "source": [
    "learner = ml.knn.knnClassify(Xtr,Ytr,K[best])"
   ]
  },
  {
   "cell_type": "code",
   "execution_count": null,
   "metadata": {},
   "outputs": [],
   "source": [
    "Xte = np.genfromtxt('X_test.txt', delimiter=',')\n",
    "Xte1 = selector.transform(Xte)\n",
    "print(Xte1.shape)\n",
    "Yhat = learner.predict(Xte1)\n",
    "Yte = np.vstack((np.arange(Xte.shape[0]), Yhat)).T\n",
    "np.savetxt('Y_submit.txt',Yte,'%d, %.2f',header='ID,Predicted',comments='',delimiter=',')"
   ]
  },
  {
   "cell_type": "code",
   "execution_count": null,
   "metadata": {},
   "outputs": [],
   "source": [
    "print(\"Kaggle Score For Knn was 0.60707 for k=2\")\n",
    "print(\"Kaggle score for Knn was 0.62363 for k =3\")\n",
    "print(\"Kaggle score for Knn was 0.51037 for k =4\")"
   ]
  },
  {
   "cell_type": "code",
   "execution_count": null,
   "metadata": {},
   "outputs": [],
   "source": []
  }
 ],
 "metadata": {
  "kernelspec": {
   "display_name": "Python 3",
   "language": "python",
   "name": "python3"
  },
  "language_info": {
   "codemirror_mode": {
    "name": "ipython",
    "version": 3
   },
   "file_extension": ".py",
   "mimetype": "text/x-python",
   "name": "python",
   "nbconvert_exporter": "python",
   "pygments_lexer": "ipython3",
   "version": "3.8.3"
  }
 },
 "nbformat": 4,
 "nbformat_minor": 4
}
